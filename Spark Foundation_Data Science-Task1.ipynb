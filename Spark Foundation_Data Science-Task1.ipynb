{
 "cells": [
  {
   "cell_type": "markdown",
   "id": "e5e607fb",
   "metadata": {},
   "source": [
    "# THE SPARK FOUNDATION INTERNSHIP\n",
    "\n",
    "## Author : Saba Badruddin Inamdar\n",
    "\n",
    "### GRIPSEP21\n",
    "\n",
    "### (Data Science And Business Analytics)\n",
    "\n",
    "\n",
    "**TASK1 : Prediction Using Supervised ML**\n",
    "\n",
    "**Problem Statement : Predict the percentage of an student based on number of study hours.**\n",
    "\n",
    "In this task,we will predict the percentage of marks that students score based on number of hours they studied.\n",
    "This is simple linear regression task,as it involve only two variable"
   ]
  },
  {
   "cell_type": "markdown",
   "id": "7bdfb982",
   "metadata": {},
   "source": [
    "#### Step1: Importing all required libraries"
   ]
  },
  {
   "cell_type": "code",
   "execution_count": 1,
   "id": "dcfb5571",
   "metadata": {},
   "outputs": [],
   "source": [
    "import pandas as pd\n",
    "import numpy as np\n",
    "import matplotlib.pyplot as plt\n",
    "import seaborn as sns\n",
    "from sklearn.model_selection import train_test_split\n",
    "from sklearn.linear_model import LinearRegression\n",
    "from sklearn.metrics import mean_absolute_error\n",
    "from sklearn import metrics"
   ]
  },
  {
   "cell_type": "markdown",
   "id": "63ce4f8a",
   "metadata": {},
   "source": [
    "#### Step2 : Reading data file"
   ]
  },
  {
   "cell_type": "code",
   "execution_count": 2,
   "id": "02f8e6e8",
   "metadata": {},
   "outputs": [
    {
     "name": "stdout",
     "output_type": "stream",
     "text": [
      "Data imported successfully.\n"
     ]
    },
    {
     "data": {
      "text/html": [
       "<div>\n",
       "<style scoped>\n",
       "    .dataframe tbody tr th:only-of-type {\n",
       "        vertical-align: middle;\n",
       "    }\n",
       "\n",
       "    .dataframe tbody tr th {\n",
       "        vertical-align: top;\n",
       "    }\n",
       "\n",
       "    .dataframe thead th {\n",
       "        text-align: right;\n",
       "    }\n",
       "</style>\n",
       "<table border=\"1\" class=\"dataframe\">\n",
       "  <thead>\n",
       "    <tr style=\"text-align: right;\">\n",
       "      <th></th>\n",
       "      <th>Hours</th>\n",
       "      <th>Scores</th>\n",
       "    </tr>\n",
       "  </thead>\n",
       "  <tbody>\n",
       "    <tr>\n",
       "      <th>0</th>\n",
       "      <td>2.5</td>\n",
       "      <td>21</td>\n",
       "    </tr>\n",
       "    <tr>\n",
       "      <th>1</th>\n",
       "      <td>5.1</td>\n",
       "      <td>47</td>\n",
       "    </tr>\n",
       "    <tr>\n",
       "      <th>2</th>\n",
       "      <td>3.2</td>\n",
       "      <td>27</td>\n",
       "    </tr>\n",
       "    <tr>\n",
       "      <th>3</th>\n",
       "      <td>8.5</td>\n",
       "      <td>75</td>\n",
       "    </tr>\n",
       "    <tr>\n",
       "      <th>4</th>\n",
       "      <td>3.5</td>\n",
       "      <td>30</td>\n",
       "    </tr>\n",
       "    <tr>\n",
       "      <th>5</th>\n",
       "      <td>1.5</td>\n",
       "      <td>20</td>\n",
       "    </tr>\n",
       "    <tr>\n",
       "      <th>6</th>\n",
       "      <td>9.2</td>\n",
       "      <td>88</td>\n",
       "    </tr>\n",
       "    <tr>\n",
       "      <th>7</th>\n",
       "      <td>5.5</td>\n",
       "      <td>60</td>\n",
       "    </tr>\n",
       "    <tr>\n",
       "      <th>8</th>\n",
       "      <td>8.3</td>\n",
       "      <td>81</td>\n",
       "    </tr>\n",
       "    <tr>\n",
       "      <th>9</th>\n",
       "      <td>2.7</td>\n",
       "      <td>25</td>\n",
       "    </tr>\n",
       "    <tr>\n",
       "      <th>10</th>\n",
       "      <td>7.7</td>\n",
       "      <td>85</td>\n",
       "    </tr>\n",
       "    <tr>\n",
       "      <th>11</th>\n",
       "      <td>5.9</td>\n",
       "      <td>62</td>\n",
       "    </tr>\n",
       "    <tr>\n",
       "      <th>12</th>\n",
       "      <td>4.5</td>\n",
       "      <td>41</td>\n",
       "    </tr>\n",
       "    <tr>\n",
       "      <th>13</th>\n",
       "      <td>3.3</td>\n",
       "      <td>42</td>\n",
       "    </tr>\n",
       "    <tr>\n",
       "      <th>14</th>\n",
       "      <td>1.1</td>\n",
       "      <td>17</td>\n",
       "    </tr>\n",
       "    <tr>\n",
       "      <th>15</th>\n",
       "      <td>8.9</td>\n",
       "      <td>95</td>\n",
       "    </tr>\n",
       "    <tr>\n",
       "      <th>16</th>\n",
       "      <td>2.5</td>\n",
       "      <td>30</td>\n",
       "    </tr>\n",
       "    <tr>\n",
       "      <th>17</th>\n",
       "      <td>1.9</td>\n",
       "      <td>24</td>\n",
       "    </tr>\n",
       "    <tr>\n",
       "      <th>18</th>\n",
       "      <td>6.1</td>\n",
       "      <td>67</td>\n",
       "    </tr>\n",
       "    <tr>\n",
       "      <th>19</th>\n",
       "      <td>7.4</td>\n",
       "      <td>69</td>\n",
       "    </tr>\n",
       "    <tr>\n",
       "      <th>20</th>\n",
       "      <td>2.7</td>\n",
       "      <td>30</td>\n",
       "    </tr>\n",
       "    <tr>\n",
       "      <th>21</th>\n",
       "      <td>4.8</td>\n",
       "      <td>54</td>\n",
       "    </tr>\n",
       "    <tr>\n",
       "      <th>22</th>\n",
       "      <td>3.8</td>\n",
       "      <td>35</td>\n",
       "    </tr>\n",
       "    <tr>\n",
       "      <th>23</th>\n",
       "      <td>6.9</td>\n",
       "      <td>76</td>\n",
       "    </tr>\n",
       "    <tr>\n",
       "      <th>24</th>\n",
       "      <td>7.8</td>\n",
       "      <td>86</td>\n",
       "    </tr>\n",
       "  </tbody>\n",
       "</table>\n",
       "</div>"
      ],
      "text/plain": [
       "    Hours  Scores\n",
       "0     2.5      21\n",
       "1     5.1      47\n",
       "2     3.2      27\n",
       "3     8.5      75\n",
       "4     3.5      30\n",
       "5     1.5      20\n",
       "6     9.2      88\n",
       "7     5.5      60\n",
       "8     8.3      81\n",
       "9     2.7      25\n",
       "10    7.7      85\n",
       "11    5.9      62\n",
       "12    4.5      41\n",
       "13    3.3      42\n",
       "14    1.1      17\n",
       "15    8.9      95\n",
       "16    2.5      30\n",
       "17    1.9      24\n",
       "18    6.1      67\n",
       "19    7.4      69\n",
       "20    2.7      30\n",
       "21    4.8      54\n",
       "22    3.8      35\n",
       "23    6.9      76\n",
       "24    7.8      86"
      ]
     },
     "execution_count": 2,
     "metadata": {},
     "output_type": "execute_result"
    }
   ],
   "source": [
    "# Reading data \n",
    "\n",
    "student_data = pd.read_csv(\"http://bit.ly/w-data\")\n",
    "print(\"Data imported successfully.\")\n",
    "\n",
    "student_data.head(25)"
   ]
  },
  {
   "cell_type": "code",
   "execution_count": 3,
   "id": "65574a08",
   "metadata": {},
   "outputs": [
    {
     "data": {
      "text/plain": [
       "False"
      ]
     },
     "execution_count": 3,
     "metadata": {},
     "output_type": "execute_result"
    }
   ],
   "source": [
    "# Cheacking if there are any null values\n",
    "student_data.isnull == True"
   ]
  },
  {
   "cell_type": "markdown",
   "id": "e5bcfb3a",
   "metadata": {},
   "source": [
    "**There is no null value in this dataset,so we can plot 2D graph to find relationship between data.**"
   ]
  },
  {
   "cell_type": "markdown",
   "id": "49d59f46",
   "metadata": {},
   "source": [
    "#### Step-3: Exploratory Data Analysis"
   ]
  },
  {
   "cell_type": "code",
   "execution_count": 4,
   "id": "1124660e",
   "metadata": {},
   "outputs": [
    {
     "data": {
      "image/png": "[encoded data removed]",
      "text/plain": [
       "<Figure size 432x288 with 1 Axes>"
      ]
     },
     "metadata": {},
     "output_type": "display_data"
    }
   ],
   "source": [
    "# Plotting the distributions\n",
    "sns.set_style('white')\n",
    "sns.scatterplot(y = student_data['Scores'], x = student_data['Hours'])\n",
    "plt.title(\"Score Vs Hour\", size=20, color='red')\n",
    "plt.xlabel(\"Hours of study\", size=15, color='green')\n",
    "plt.ylabel('Percentage Scored', size=15, color='green')\n",
    "plt.show()"
   ]
  },
  {
   "cell_type": "markdown",
   "id": "493c9413",
   "metadata": {},
   "source": [
    "#### Step-4: Plotting the Regression line"
   ]
  },
  {
   "cell_type": "code",
   "execution_count": 5,
   "id": "0b250387",
   "metadata": {},
   "outputs": [
    {
     "data": {
      "image/png": "[encoded data removed]",
      "text/plain": [
       "<Figure size 432x288 with 1 Axes>"
      ]
     },
     "metadata": {},
     "output_type": "display_data"
    },
    {
     "name": "stdout",
     "output_type": "stream",
     "text": [
      "           Hours    Scores\n",
      "Hours   1.000000  0.976191\n",
      "Scores  0.976191  1.000000\n"
     ]
    }
   ],
   "source": [
    "sns.regplot(y = student_data['Scores'], x = student_data['Hours'])\n",
    "plt.title('Regression Line', size=20, color='blue')\n",
    "plt.xlabel(\"Hours of study\", size=15, color='green')\n",
    "plt.ylabel('Percentage Scored', size=15, color='green')\n",
    "plt.show()\n",
    "print(student_data.corr())"
   ]
  },
  {
   "cell_type": "markdown",
   "id": "ff99ec57",
   "metadata": {},
   "source": [
    "#### Step-4: Preparing And Splitting the Data"
   ]
  },
  {
   "cell_type": "code",
   "execution_count": 6,
   "id": "316a1680",
   "metadata": {},
   "outputs": [],
   "source": [
    "# divide data into input and output\n",
    "x = student_data.iloc[:,:-1].values\n",
    "y = student_data.iloc[:,1].values"
   ]
  },
  {
   "cell_type": "code",
   "execution_count": 7,
   "id": "bf204f82",
   "metadata": {},
   "outputs": [],
   "source": [
    "#Splitting the data into training and testing sets\n",
    "\n",
    "train_x,test_x,train_y,test_y = train_test_split(x,y,random_state = 0)"
   ]
  },
  {
   "cell_type": "markdown",
   "id": "59482709",
   "metadata": {},
   "source": [
    "#### Step-5: Training the Algorithm\n",
    "\n",
    "**We have split dataset into training and testing sets. Now we will train our algorithm.**"
   ]
  },
  {
   "cell_type": "code",
   "execution_count": 8,
   "id": "0c8c2cb0",
   "metadata": {},
   "outputs": [
    {
     "name": "stdout",
     "output_type": "stream",
     "text": [
      "Model Trained.\n"
     ]
    }
   ],
   "source": [
    "regression = LinearRegression()\n",
    "regression.fit(train_x,train_y)\n",
    "\n",
    "print(\"Model Trained.\")"
   ]
  },
  {
   "cell_type": "markdown",
   "id": "23e93996",
   "metadata": {},
   "source": [
    "#### Step-6 : Predicting Percentage"
   ]
  },
  {
   "cell_type": "code",
   "execution_count": 9,
   "id": "00644d9b",
   "metadata": {
    "scrolled": true
   },
   "outputs": [
    {
     "data": {
      "text/html": [
       "<div>\n",
       "<style scoped>\n",
       "    .dataframe tbody tr th:only-of-type {\n",
       "        vertical-align: middle;\n",
       "    }\n",
       "\n",
       "    .dataframe tbody tr th {\n",
       "        vertical-align: top;\n",
       "    }\n",
       "\n",
       "    .dataframe thead th {\n",
       "        text-align: right;\n",
       "    }\n",
       "</style>\n",
       "<table border=\"1\" class=\"dataframe\">\n",
       "  <thead>\n",
       "    <tr style=\"text-align: right;\">\n",
       "      <th></th>\n",
       "      <th>Hours</th>\n",
       "      <th>Predicted Marks</th>\n",
       "    </tr>\n",
       "  </thead>\n",
       "  <tbody>\n",
       "    <tr>\n",
       "      <th>0</th>\n",
       "      <td>1.5</td>\n",
       "      <td>16.844722</td>\n",
       "    </tr>\n",
       "    <tr>\n",
       "      <th>1</th>\n",
       "      <td>3.2</td>\n",
       "      <td>33.745575</td>\n",
       "    </tr>\n",
       "    <tr>\n",
       "      <th>2</th>\n",
       "      <td>7.4</td>\n",
       "      <td>75.500624</td>\n",
       "    </tr>\n",
       "    <tr>\n",
       "      <th>3</th>\n",
       "      <td>2.5</td>\n",
       "      <td>26.786400</td>\n",
       "    </tr>\n",
       "    <tr>\n",
       "      <th>4</th>\n",
       "      <td>5.9</td>\n",
       "      <td>60.588106</td>\n",
       "    </tr>\n",
       "    <tr>\n",
       "      <th>5</th>\n",
       "      <td>3.8</td>\n",
       "      <td>39.710582</td>\n",
       "    </tr>\n",
       "    <tr>\n",
       "      <th>6</th>\n",
       "      <td>1.9</td>\n",
       "      <td>20.821393</td>\n",
       "    </tr>\n",
       "  </tbody>\n",
       "</table>\n",
       "</div>"
      ],
      "text/plain": [
       "   Hours  Predicted Marks\n",
       "0    1.5        16.844722\n",
       "1    3.2        33.745575\n",
       "2    7.4        75.500624\n",
       "3    2.5        26.786400\n",
       "4    5.9        60.588106\n",
       "5    3.8        39.710582\n",
       "6    1.9        20.821393"
      ]
     },
     "execution_count": 9,
     "metadata": {},
     "output_type": "execute_result"
    }
   ],
   "source": [
    "pred_y = regression.predict(test_x)\n",
    "prediction = pd.DataFrame({'Hours':[i[0] for i in test_x],'Predicted Marks':[k for k in pred_y]})\n",
    "prediction"
   ]
  },
  {
   "cell_type": "markdown",
   "id": "db8ce0b8",
   "metadata": {},
   "source": [
    "**Comparing Actual And Predicted Marks**"
   ]
  },
  {
   "cell_type": "code",
   "execution_count": 10,
   "id": "252a1dcc",
   "metadata": {},
   "outputs": [
    {
     "data": {
      "text/html": [
       "<div>\n",
       "<style scoped>\n",
       "    .dataframe tbody tr th:only-of-type {\n",
       "        vertical-align: middle;\n",
       "    }\n",
       "\n",
       "    .dataframe tbody tr th {\n",
       "        vertical-align: top;\n",
       "    }\n",
       "\n",
       "    .dataframe thead th {\n",
       "        text-align: right;\n",
       "    }\n",
       "</style>\n",
       "<table border=\"1\" class=\"dataframe\">\n",
       "  <thead>\n",
       "    <tr style=\"text-align: right;\">\n",
       "      <th></th>\n",
       "      <th>Actual</th>\n",
       "      <th>Predicted</th>\n",
       "    </tr>\n",
       "  </thead>\n",
       "  <tbody>\n",
       "    <tr>\n",
       "      <th>0</th>\n",
       "      <td>20</td>\n",
       "      <td>16.844722</td>\n",
       "    </tr>\n",
       "    <tr>\n",
       "      <th>1</th>\n",
       "      <td>27</td>\n",
       "      <td>33.745575</td>\n",
       "    </tr>\n",
       "    <tr>\n",
       "      <th>2</th>\n",
       "      <td>69</td>\n",
       "      <td>75.500624</td>\n",
       "    </tr>\n",
       "    <tr>\n",
       "      <th>3</th>\n",
       "      <td>30</td>\n",
       "      <td>26.786400</td>\n",
       "    </tr>\n",
       "    <tr>\n",
       "      <th>4</th>\n",
       "      <td>62</td>\n",
       "      <td>60.588106</td>\n",
       "    </tr>\n",
       "    <tr>\n",
       "      <th>5</th>\n",
       "      <td>35</td>\n",
       "      <td>39.710582</td>\n",
       "    </tr>\n",
       "    <tr>\n",
       "      <th>6</th>\n",
       "      <td>24</td>\n",
       "      <td>20.821393</td>\n",
       "    </tr>\n",
       "  </tbody>\n",
       "</table>\n",
       "</div>"
      ],
      "text/plain": [
       "   Actual  Predicted\n",
       "0      20  16.844722\n",
       "1      27  33.745575\n",
       "2      69  75.500624\n",
       "3      30  26.786400\n",
       "4      62  60.588106\n",
       "5      35  39.710582\n",
       "6      24  20.821393"
      ]
     },
     "execution_count": 10,
     "metadata": {},
     "output_type": "execute_result"
    }
   ],
   "source": [
    "# Comapring Actual Vs Predicted\n",
    "df = pd.DataFrame({'Actual': test_y, 'Predicted':pred_y})\n",
    "df"
   ]
  },
  {
   "cell_type": "code",
   "execution_count": 11,
   "id": "730f0bd7",
   "metadata": {},
   "outputs": [
    {
     "data": {
      "image/png": "[encoded data removed]",
      "text/plain": [
       "<Figure size 432x288 with 1 Axes>"
      ]
     },
     "metadata": {},
     "output_type": "display_data"
    }
   ],
   "source": [
    "#Plotting Actual And Predicted Marks\n",
    "\n",
    "plt.scatter(x=test_x, y=test_y, color='green')\n",
    "plt.plot(test_x,pred_y, color='red')\n",
    "plt.title('Actual VS Predicted', size=20, color='blue')\n",
    "plt.xlabel('Hours of study', size=15, color='blue')\n",
    "plt.ylabel('Marks', size=15, color='blue')\n",
    "plt.show()"
   ]
  },
  {
   "cell_type": "markdown",
   "id": "109ff8fd",
   "metadata": {},
   "source": [
    "#### Step-7: Evaluating Model"
   ]
  },
  {
   "cell_type": "code",
   "execution_count": 12,
   "id": "4cce20c6",
   "metadata": {},
   "outputs": [
    {
     "name": "stdout",
     "output_type": "stream",
     "text": [
      "Mean Squared Error : 20.33292367497997\n",
      "Mean Absolute Error : 4.130879918502486\n",
      "Root Mean Squared Error : 4.5092043283688055\n"
     ]
    }
   ],
   "source": [
    "# mean absolute error to evaluate performance of algorithm \n",
    "\n",
    "print(\"Mean Squared Error :\",metrics.mean_squared_error(test_y,pred_y))\n",
    "print(\"Mean Absolute Error :\",metrics.mean_absolute_error(test_y,pred_y))\n",
    "print(\"Root Mean Squared Error :\",np.sqrt(metrics.mean_squared_error(test_y,pred_y)))"
   ]
  },
  {
   "cell_type": "markdown",
   "id": "d2762284",
   "metadata": {},
   "source": [
    "#### Step-8: Predicting the score if student studied for 9.25 hours/day:"
   ]
  },
  {
   "cell_type": "code",
   "execution_count": 13,
   "id": "3e1ebdbe",
   "metadata": {},
   "outputs": [
    {
     "name": "stdout",
     "output_type": "stream",
     "text": [
      "Predicted score 93.89272889341655\n"
     ]
    }
   ],
   "source": [
    "hours = [9.25]\n",
    "result = regression.predict([hours])\n",
    "print(\"Predicted score\",result[0])"
   ]
  },
  {
   "cell_type": "markdown",
   "id": "10719ecb",
   "metadata": {},
   "source": [
    "**Conclusion: According to linear regression model,predicted score for a student who studied 9.25 hours/day will be 93.89 percent.**"
   ]
  }
 ],
 "metadata": {
  "kernelspec": {
   "display_name": "Python 3",
   "language": "python",
   "name": "python3"
  },
  "language_info": {
   "codemirror_mode": {
    "name": "ipython",
    "version": 3
   },
   "file_extension": ".py",
   "mimetype": "text/x-python",
   "name": "python",
   "nbconvert_exporter": "python",
   "pygments_lexer": "ipython3",
   "version": "3.8.8"
  }
 },
 "nbformat": 4,
 "nbformat_minor": 5
}
